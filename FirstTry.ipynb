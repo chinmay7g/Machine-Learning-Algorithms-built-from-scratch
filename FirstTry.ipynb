{
 "cells": [
  {
   "cell_type": "code",
   "execution_count": 2,
   "metadata": {},
   "outputs": [],
   "source": [
    "#stepwise construction of the Linear Regression model using Gradient Descent\n"
   ]
  },
  {
   "cell_type": "code",
   "execution_count": 3,
   "metadata": {},
   "outputs": [],
   "source": [
    "#importing libraries\n",
    "\n",
    "import numpy as np\n",
    "import matplotlib.pyplot as plt"
   ]
  },
  {
   "cell_type": "code",
   "execution_count": 4,
   "metadata": {},
   "outputs": [],
   "source": [
    "#workflow - \n",
    "#creating hypothesis y\n",
    "#creating the error difference\n",
    "#creating the squared error\n",
    "#minimising it over number of samples\n"
   ]
  },
  {
   "cell_type": "code",
   "execution_count": 5,
   "metadata": {},
   "outputs": [],
   "source": [
    "#creating cost function \n",
    "def costFunc(x, theta_0, theta_1):\n",
    "    y = theta_0 + theta_1 * x\n",
    "    return y\n",
    "\n",
    "#creating the difference\n",
    "\n",
    "def diff(a,y):\n",
    "    d = a - y\n",
    "    return d\n",
    "\n",
    "#squaring the difference\n",
    "\n",
    "def sq(d):\n",
    "    sqd_err = d**2\n",
    "    return sqd_err\n",
    "\n",
    "#minimising it over examples\n",
    "\n",
    "def min(e,m):\n",
    "    pred_y = (1/2*m) * e\n",
    "    return pred_y\n",
    "    "
   ]
  },
  {
   "cell_type": "code",
   "execution_count": 6,
   "metadata": {},
   "outputs": [],
   "source": [
    "#Example"
   ]
  },
  {
   "cell_type": "code",
   "execution_count": 9,
   "metadata": {},
   "outputs": [
    {
     "name": "stdout",
     "output_type": "stream",
     "text": [
      "This is the input array [0 1 2 3 4 5 6 7 8 9]\n",
      "\n",
      "\n",
      "This is the cost function value [ 5.   6.5  8.   9.5 11.  12.5 14.  15.5 17.  18.5]\n",
      "\n",
      "\n",
      "This is the difference [-5.         -5.38888889 -5.77777778 -6.16666667 -6.55555556 -6.94444444\n",
      " -7.33333333 -7.72222222 -8.11111111 -8.5       ]\n",
      "\n",
      "\n",
      "This is the squared error: [25.         29.04012346 33.38271605 38.02777778 42.97530864 48.22530864\n",
      " 53.77777778 59.63271605 65.79012346 72.25      ]\n",
      "\n",
      "\n",
      "Here is the prediction [125.         145.20061728 166.91358025 190.13888889 214.87654321\n",
      " 241.12654321 268.88888889 298.16358025 328.95061728 361.25      ] \n"
     ]
    }
   ],
   "source": [
    "x = np.array(range(10))\n",
    "\n",
    "func1 = costFunc(x,5,1.5)\n",
    "print(f'This is the input array {x}')\n",
    "print('\\n')\n",
    "print(f'This is the cost function value {func1}')\n",
    "print('\\n')\n",
    "\n",
    "a = np.linspace(0,10,10)\n",
    "\n",
    "difference = diff(a,func1)\n",
    "print(f'This is the difference {difference}')\n",
    "print('\\n')\n",
    "\n",
    "squared_error = sq(difference)\n",
    "print(f'This is the squared error: {squared_error}')\n",
    "print('\\n')\n",
    "\n",
    "m = len(x)\n",
    "\n",
    "prediction = min(squared_error, m)\n",
    "\n",
    "print(f'Here is the prediction {prediction} ')"
   ]
  },
  {
   "cell_type": "code",
   "execution_count": null,
   "metadata": {},
   "outputs": [],
   "source": []
  }
 ],
 "metadata": {
  "kernelspec": {
   "display_name": "Python 3",
   "language": "python",
   "name": "python3"
  },
  "language_info": {
   "codemirror_mode": {
    "name": "ipython",
    "version": 3
   },
   "file_extension": ".py",
   "mimetype": "text/x-python",
   "name": "python",
   "nbconvert_exporter": "python",
   "pygments_lexer": "ipython3",
   "version": "3.7.4"
  }
 },
 "nbformat": 4,
 "nbformat_minor": 2
}
